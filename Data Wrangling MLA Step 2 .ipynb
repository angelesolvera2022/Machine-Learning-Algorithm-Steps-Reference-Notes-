{
 "cells": [
  {
   "cell_type": "markdown",
   "id": "ce0d3648-f7e8-4801-b7fa-08432579a568",
   "metadata": {},
   "source": [
    "1. Problem identification \n",
    "\n",
    "2. **Data wrangling**\n",
    "\n",
    "3. Exploratory data analysis\n",
    "\n",
    "4. Prep-processing and training data development \n",
    "\n",
    "5. Modeling (Machine learning steps)\n",
    "\n",
    "6. Documentation"
   ]
  },
  {
   "cell_type": "markdown",
   "id": "1e7b1417-52ac-4b77-9317-89ca8622af6c",
   "metadata": {},
   "source": [
    "# Data Wrangling \n",
    "**involves taking raw data and preparing it for processing and analysis**\n",
    "\n",
    "\n",
    "Do you think you may have the data you need to tackle the desired question?\n",
    "\n",
    "Have you identified the required target value? (what are you predicting)\n",
    "\n",
    "Do you have potentially useful features? (many columns)\n",
    "\n",
    "Do you have any fundamental issues with the data? (yes)"
   ]
  },
  {
   "cell_type": "markdown",
   "id": "2cc122f1-4dc4-484d-9e0c-4d91c94cd7a8",
   "metadata": {},
   "source": [
    "**1) Import relevant libraries**\n",
    "\n",
    "- `import numpy as np `\n",
    "- `import pandas as pd` \n",
    "- `import matplotlib.pyplot as plt`\n",
    "- `import seaborn as sns`\n"
   ]
  },
  {
   "cell_type": "markdown",
   "id": "e45dc545-14f9-4545-9021-7aa6610df905",
   "metadata": {},
   "source": [
    "**2) Explore all data and columns that might have what youre looking for. What do you need to clean?**\n",
    "\n",
    "\n",
    "**All data**\n",
    "- `data.shape()`\n",
    "- `data.info()`\n",
    "- `data.describe()`\n",
    "\n",
    "**Column Exploration**\n",
    "- `data[data.columnname == \" \"].T`\n",
    "- `data[\"column\"].unique`\n",
    "- `data[\"column\"].nunique`\n",
    "- `data[\"column\"].value_counts()`\n",
    "- `(data[\"column\"] + ', ' + data['column']).value_counts()`\n",
    "- `data.columns`"
   ]
  },
  {
   "cell_type": "markdown",
   "id": "524c8920-b29f-42f0-8380-d14c852c0b27",
   "metadata": {},
   "source": [
    "**3) Investigate and deal with the missing values at the foundational level**\n",
    "\n",
    "- Removing specific rows/columns with excessive missing values.\n",
    "\n",
    "- Filling missing values with mean, median, mode, or other appropriate values.\n",
    "\n",
    "- Imputing missing values using more sophisticated methods (e.g., regression, KNN)."
   ]
  },
  {
   "cell_type": "markdown",
   "id": "42c50536-d5da-4ba5-b58c-80f6ce1dc800",
   "metadata": {},
   "source": [
    " **methods**\n",
    "- `data.isnull().sum()`\n",
    "- create a new DF showing the percentage of missing values per column:\n",
    "\n",
    "    - ``` python\n",
    "      missing = pd.concat([data.isnull().sum(), 100 * data.isnull().mean()], axis=1)\n",
    "      missing.columns = ['count', '%']\n",
    "      missing.sort_values(by='count', ascending=False)\n",
    "      \n",
    "      ````\n",
    "\n",
    "\n",
    "      \n",
    "\n",
    "\n",
    "\n",
    " - Are any columns with high percentage of missing values?\n",
    " - This could be due to column being categorical and a number representing something. For exaple boolean 0 = no and 1 = yes.\n",
    " - **See additional notes for dealing with missing values methods (Missing Values MLA step 2 and 3)**"
   ]
  },
  {
   "cell_type": "markdown",
   "id": "04b11861-2d73-4910-b1af-e7f32f36c521",
   "metadata": {},
   "source": [
    "**4) investigate outliers**\n",
    "- Box plots are useful for visualizing the spread of the data and identifying outliers.\n",
    "- A histogram can also show any obiouse outliers. Outliers are bars that are isolated from the rest of where the data is clustered. When the distribution is skewed the tail of the distribution can also represent outliers. \n",
    "\n",
    "\n",
    "- **To compare multiple columnswith boxplot**\n",
    "\n",
    "    ```python \n",
    "    plt.subplots(figsize=(12, 8))\n",
    "    sns.boxplot(x=\"column \", y=\"column\", hue=\"column\", data= data)\n",
    "    plt.xticks(rotation=\"vertical\")\n",
    "    plt.ylabel(\" something \")\n",
    "    plt.xlabel(\"something\")\n",
    "    plt.show()\n",
    "    ```\n"
   ]
  },
  {
   "cell_type": "markdown",
   "id": "f8e3e05d-0334-4a5f-9d04-9178d90ba5e3",
   "metadata": {},
   "source": [
    "**5) Look for complete duplicates**\n",
    "- verify if they are actually duplicates if they are drop the extras.\n",
    "\n",
    "- `duplicates = data.duplicated()`\n",
    "- `duplicates_sum = duplicates.sum()`\n",
    "\n",
    "**Verify they are duplicates**\n",
    "\n",
    "- `data[data['column'] == 'duplicate']`\n",
    "  \n",
    "**Completed duplicates vs Incomplete duplicates** \n",
    "- Completed duplicates - full row is the same as other rows\n",
    "- incomplete duplicate - only certain columns of the row are duplicates not all\n",
    "- If you want to return incomplete run following code \n",
    "\n",
    "    - `data.duplicated(subset=['columnname', 'columnname'], keep=False)`\n",
    "\n",
    " - If you want to return the completed duplicates run the following\n",
    "    - `duplicates = data[data.duplicated(keep=False)]`\n",
    "\n",
    "**Drop them if they are duplicates** \n",
    "\n",
    "- `data_cleaned = data.drop_duplicates()`\n",
    "  \n"
   ]
  },
  {
   "cell_type": "code",
   "execution_count": null,
   "id": "391c1f29-c160-4db1-87e1-46195451b3b5",
   "metadata": {},
   "outputs": [],
   "source": []
  }
 ],
 "metadata": {
  "kernelspec": {
   "display_name": "Python (myenv)",
   "language": "python",
   "name": "myenv"
  },
  "language_info": {
   "codemirror_mode": {
    "name": "ipython",
    "version": 3
   },
   "file_extension": ".py",
   "mimetype": "text/x-python",
   "name": "python",
   "nbconvert_exporter": "python",
   "pygments_lexer": "ipython3",
   "version": "3.11.9"
  }
 },
 "nbformat": 4,
 "nbformat_minor": 5
}
